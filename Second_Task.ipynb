{
 "cells": [
  {
   "cell_type": "code",
   "execution_count": 1,
   "id": "2d20102c-09b3-470b-896c-cf80e2984ce3",
   "metadata": {},
   "outputs": [],
   "source": [
    "import pandas as pd"
   ]
  },
  {
   "cell_type": "code",
   "execution_count": 2,
   "id": "57effc46-5755-4974-9de9-45f98df64d25",
   "metadata": {},
   "outputs": [],
   "source": [
    "prices = [\n",
    "\t(1, 2.12),\n",
    "\t(2, 2.56),\n",
    "\t(3, 3.10),\n",
    "\t(4, 3.16),\n",
    "\t(5, 3.58),\n",
    "\t(6, 5.12),\n",
    "\t(7, 5.16),\n",
    "\t(8, 5.20),\n",
    "\t(9, 4.12),\n",
    "\t(10, 4.10),\n",
    "\t(11, 3.65),\n",
    "\t(12, 4.25),\n",
    "\n",
    "]"
   ]
  },
  {
   "cell_type": "code",
   "execution_count": 4,
   "id": "41437773-55c5-4469-b814-25bab0906999",
   "metadata": {},
   "outputs": [
    {
     "data": {
      "text/html": [
       "<div>\n",
       "<style scoped>\n",
       "    .dataframe tbody tr th:only-of-type {\n",
       "        vertical-align: middle;\n",
       "    }\n",
       "\n",
       "    .dataframe tbody tr th {\n",
       "        vertical-align: top;\n",
       "    }\n",
       "\n",
       "    .dataframe thead th {\n",
       "        text-align: right;\n",
       "    }\n",
       "</style>\n",
       "<table border=\"1\" class=\"dataframe\">\n",
       "  <thead>\n",
       "    <tr style=\"text-align: right;\">\n",
       "      <th></th>\n",
       "      <th>Cena</th>\n",
       "      <th>USD pice</th>\n",
       "    </tr>\n",
       "    <tr>\n",
       "      <th>Miesiące</th>\n",
       "      <th></th>\n",
       "      <th></th>\n",
       "    </tr>\n",
       "  </thead>\n",
       "  <tbody>\n",
       "    <tr>\n",
       "      <th>1</th>\n",
       "      <td>2.12</td>\n",
       "      <td>0.5300</td>\n",
       "    </tr>\n",
       "    <tr>\n",
       "      <th>2</th>\n",
       "      <td>2.56</td>\n",
       "      <td>0.6400</td>\n",
       "    </tr>\n",
       "    <tr>\n",
       "      <th>3</th>\n",
       "      <td>3.10</td>\n",
       "      <td>0.7750</td>\n",
       "    </tr>\n",
       "    <tr>\n",
       "      <th>4</th>\n",
       "      <td>3.16</td>\n",
       "      <td>0.7900</td>\n",
       "    </tr>\n",
       "    <tr>\n",
       "      <th>5</th>\n",
       "      <td>3.58</td>\n",
       "      <td>0.8950</td>\n",
       "    </tr>\n",
       "    <tr>\n",
       "      <th>6</th>\n",
       "      <td>5.12</td>\n",
       "      <td>1.2800</td>\n",
       "    </tr>\n",
       "    <tr>\n",
       "      <th>7</th>\n",
       "      <td>5.16</td>\n",
       "      <td>1.2900</td>\n",
       "    </tr>\n",
       "    <tr>\n",
       "      <th>8</th>\n",
       "      <td>5.20</td>\n",
       "      <td>1.3000</td>\n",
       "    </tr>\n",
       "    <tr>\n",
       "      <th>9</th>\n",
       "      <td>4.12</td>\n",
       "      <td>1.0300</td>\n",
       "    </tr>\n",
       "    <tr>\n",
       "      <th>10</th>\n",
       "      <td>4.10</td>\n",
       "      <td>1.0250</td>\n",
       "    </tr>\n",
       "    <tr>\n",
       "      <th>11</th>\n",
       "      <td>3.65</td>\n",
       "      <td>0.9125</td>\n",
       "    </tr>\n",
       "    <tr>\n",
       "      <th>12</th>\n",
       "      <td>4.25</td>\n",
       "      <td>1.0625</td>\n",
       "    </tr>\n",
       "  </tbody>\n",
       "</table>\n",
       "</div>"
      ],
      "text/plain": [
       "          Cena  USD pice\n",
       "Miesiące                \n",
       "1         2.12    0.5300\n",
       "2         2.56    0.6400\n",
       "3         3.10    0.7750\n",
       "4         3.16    0.7900\n",
       "5         3.58    0.8950\n",
       "6         5.12    1.2800\n",
       "7         5.16    1.2900\n",
       "8         5.20    1.3000\n",
       "9         4.12    1.0300\n",
       "10        4.10    1.0250\n",
       "11        3.65    0.9125\n",
       "12        4.25    1.0625"
      ]
     },
     "execution_count": 4,
     "metadata": {},
     "output_type": "execute_result"
    }
   ],
   "source": [
    "df = pd.DataFrame(prices, columns=[\"Miesiące\", \"Cena\"]) # ustawienie DataFrame\n",
    "df = df.set_index(\"Miesiące\") # Wybranie indeksu\n",
    "df[\"USD pice\"] = df[\"Cena\"]/4 # Dodanie nowej kolumny\n",
    "df # Wyświetlenie"
   ]
  },
  {
   "cell_type": "code",
   "execution_count": 7,
   "id": "3093b72c-c5da-4ed5-8fc5-a7a76642d81d",
   "metadata": {},
   "outputs": [
    {
     "data": {
      "text/plain": [
       "[<matplotlib.axis.XTick at 0x7f4812e434c0>,\n",
       " <matplotlib.axis.XTick at 0x7f4812e43490>,\n",
       " <matplotlib.axis.XTick at 0x7f4812e3e490>,\n",
       " <matplotlib.axis.XTick at 0x7f4812cb3640>,\n",
       " <matplotlib.axis.XTick at 0x7f4812cb3d90>,\n",
       " <matplotlib.axis.XTick at 0x7f4812cb8520>,\n",
       " <matplotlib.axis.XTick at 0x7f4812cb8c70>,\n",
       " <matplotlib.axis.XTick at 0x7f4812cb8d60>,\n",
       " <matplotlib.axis.XTick at 0x7f4812cb3dc0>,\n",
       " <matplotlib.axis.XTick at 0x7f4812cabc40>,\n",
       " <matplotlib.axis.XTick at 0x7f4812cbe7f0>,\n",
       " <matplotlib.axis.XTick at 0x7f4812c450a0>]"
      ]
     },
     "execution_count": 7,
     "metadata": {},
     "output_type": "execute_result"
    },
    {
     "data": {
      "image/png": "[encoded data removed]",
      "text/plain": [
       "<Figure size 720x432 with 1 Axes>"
      ]
     },
     "metadata": {
      "needs_background": "light"
     },
     "output_type": "display_data"
    }
   ],
   "source": [
    "import matplotlib.pyplot as plt\n",
    "plt.style.use('_mpl-gallery') # Ustawienie stylu wykresu\n",
    "fig, ax = plt.subplots(figsize=(10,6)) # Ustawienie jego rozmiarów\n",
    "res = ax.plot(df.index, df[\"USD pice\"]) # Zainicjowanie wykresu\n",
    "line = res[0]  # Możliwość korzystania z autouzupełniania\n",
    "line.set_c('red') # Zmiana koloru linii\n",
    "line.set_linestyle('dashed') # Zmiana stylu linii\n",
    "title = ax.set_title('Price of goods (USD)') # Ustawienie tytułu\n",
    "yax = ax.get_yaxis() # Ustawienie współrzędnych na osi Y\n",
    "yax.set_ticks([0,0.25,0.5,0.75,1,1.25,1.5,1.75,2])\n",
    "xax = ax.get_xaxis()# Ustawienie współrzędnych na osi X\n",
    "xax.set_ticks(df.index)"
   ]
  },
  {
   "cell_type": "code",
   "execution_count": null,
   "id": "3250e11b-7662-47bf-9243-808d7d678ddf",
   "metadata": {},
   "outputs": [],
   "source": []
  }
 ],
 "metadata": {
  "kernelspec": {
   "display_name": "Python 3 (ipykernel)",
   "language": "python",
   "name": "python3"
  },
  "language_info": {
   "codemirror_mode": {
    "name": "ipython",
    "version": 3
   },
   "file_extension": ".py",
   "mimetype": "text/x-python",
   "name": "python",
   "nbconvert_exporter": "python",
   "pygments_lexer": "ipython3",
   "version": "3.8.10"
  }
 },
 "nbformat": 4,
 "nbformat_minor": 5
}
